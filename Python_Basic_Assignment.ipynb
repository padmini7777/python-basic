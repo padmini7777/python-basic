{
  "nbformat": 4,
  "nbformat_minor": 0,
  "metadata": {
    "colab": {
      "provenance": []
    },
    "kernelspec": {
      "name": "python3",
      "display_name": "Python 3"
    },
    "language_info": {
      "name": "python"
    }
  },
  "cells": [
    {
      "cell_type": "markdown",
      "source": [
        "##Python Basic question's Answer"
      ],
      "metadata": {
        "id": "janPoARTGcgA"
      }
    },
    {
      "cell_type": "markdown",
      "source": [
        "###1. What is Python, and why is it popular?"
      ],
      "metadata": {
        "id": "MYy-dqNhh2dp"
      }
    },
    {
      "cell_type": "markdown",
      "source": [
        "Ans- Python is a high-level, interpreted programming language known for its simplicity and readability. Its popular because:\n",
        "\n",
        "- Easy-to-learn syntax.\n",
        "-Extensive libraries.\n",
        "-Cross platform compatibility.\n",
        "-Strong community support.\n",
        "- Versatility"
      ],
      "metadata": {
        "id": "fGXDXwAth2kB"
      }
    },
    {
      "cell_type": "markdown",
      "source": [
        "###2. What is an interpreter in Python?"
      ],
      "metadata": {
        "id": "2ZzWgzVsh2nJ"
      }
    },
    {
      "cell_type": "markdown",
      "source": [
        "Ans- The interpreter in python read and execute code line by line. It convert code into bytecode and run it in the Python Virtual Machine (PVM)."
      ],
      "metadata": {
        "id": "6224ET3Nh2r5"
      }
    },
    {
      "cell_type": "markdown",
      "source": [
        "###3.What are pre-defined keywords in Python?\n"
      ],
      "metadata": {
        "id": "mP1K1XeXh2vB"
      }
    },
    {
      "cell_type": "markdown",
      "source": [
        "Ans-Keywords are reserved words with special meaning. Examples: if, else, for, while, def, class.\n",
        "\n",
        "\n",
        "\n",
        "Code to list all keywords:"
      ],
      "metadata": {
        "id": "ZWRlyPKjh20Y"
      }
    },
    {
      "cell_type": "code",
      "source": [
        "import keyword\n",
        "print(keyword.kwlist)"
      ],
      "metadata": {
        "colab": {
          "base_uri": "https://localhost:8080/"
        },
        "id": "j9o6sZVUk3cS",
        "outputId": "31d6fec5-d5a0-4257-d5bd-f50da84319f2"
      },
      "execution_count": null,
      "outputs": [
        {
          "output_type": "stream",
          "name": "stdout",
          "text": [
            "['False', 'None', 'True', 'and', 'as', 'assert', 'async', 'await', 'break', 'class', 'continue', 'def', 'del', 'elif', 'else', 'except', 'finally', 'for', 'from', 'global', 'if', 'import', 'in', 'is', 'lambda', 'nonlocal', 'not', 'or', 'pass', 'raise', 'return', 'try', 'while', 'with', 'yield']\n"
          ]
        }
      ]
    },
    {
      "cell_type": "markdown",
      "source": [
        "###4. Can keywords be used as variable names?"
      ],
      "metadata": {
        "id": "cZgcU61flHt4"
      }
    },
    {
      "cell_type": "markdown",
      "source": [
        "Ans- No. Using keywords as variables causes a syntax error.\n",
        "\n",
        "Example-"
      ],
      "metadata": {
        "id": "QaZQLFoZlPlA"
      }
    },
    {
      "cell_type": "code",
      "source": [
        "# Error: SyntaxError\n",
        "if = 10"
      ],
      "metadata": {
        "colab": {
          "base_uri": "https://localhost:8080/",
          "height": 110
        },
        "id": "tevmnUoO_qm-",
        "outputId": "bce912e0-9276-448e-dc94-d5212a8d4b42"
      },
      "execution_count": 1,
      "outputs": [
        {
          "output_type": "error",
          "ename": "SyntaxError",
          "evalue": "invalid syntax (<ipython-input-1-293f01504354>, line 2)",
          "traceback": [
            "\u001b[0;36m  File \u001b[0;32m\"<ipython-input-1-293f01504354>\"\u001b[0;36m, line \u001b[0;32m2\u001b[0m\n\u001b[0;31m    if = 10\u001b[0m\n\u001b[0m       ^\u001b[0m\n\u001b[0;31mSyntaxError\u001b[0m\u001b[0;31m:\u001b[0m invalid syntax\n"
          ]
        }
      ]
    },
    {
      "cell_type": "markdown",
      "source": [
        "###5. What is mutability in Python?"
      ],
      "metadata": {
        "id": "Fe8nd2ky_2UO"
      }
    },
    {
      "cell_type": "markdown",
      "source": [
        "Ans- Mutability determines if an object’s state can be modified after creation.\n",
        "\n",
        "**Mutable**: Lists, dictionaries, sets.\n",
        "\n",
        "**Immutable**: Integers, strings, tuples.\n",
        "\n"
      ],
      "metadata": {
        "id": "JT49gbLVABCq"
      }
    },
    {
      "cell_type": "markdown",
      "source": [
        "###6.  Why are lists mutable, but tuples are immutable?"
      ],
      "metadata": {
        "id": "SR9gI402AVVk"
      }
    },
    {
      "cell_type": "markdown",
      "source": [
        "Ans-\n",
        "\n",
        "**Lists**: Designed for dynamic data (e.g., adding/removing elements).\n",
        "\n",
        "**Tuples**: Immutable to ensure data integrity (e.g., dictionary keys).\n",
        "\n",
        "\n",
        "\n"
      ],
      "metadata": {
        "id": "mUHRMq9JAVSb"
      }
    },
    {
      "cell_type": "markdown",
      "source": [
        "###7. What is the difference between “==” and “is” operators in Python?"
      ],
      "metadata": {
        "id": "gqy33XNlBXMM"
      }
    },
    {
      "cell_type": "markdown",
      "source": [
        "Ans-\n",
        "\n",
        "**==** checks value equality.\n",
        "\n",
        "**is** checks memory address equality (same object).\n",
        "\n",
        "Example-"
      ],
      "metadata": {
        "id": "d3cSyUq7BW8h"
      }
    },
    {
      "cell_type": "code",
      "source": [
        "a = [1, 2]\n",
        "b = [1, 2]\n",
        "print(a == b)  # True (same values)\n",
        "print(a is b)  # False (different objects)"
      ],
      "metadata": {
        "colab": {
          "base_uri": "https://localhost:8080/"
        },
        "id": "2hH0JWbtCFMd",
        "outputId": "a6da5f14-023d-4a78-897f-255e86544582"
      },
      "execution_count": 2,
      "outputs": [
        {
          "output_type": "stream",
          "name": "stdout",
          "text": [
            "True\n",
            "False\n"
          ]
        }
      ]
    },
    {
      "cell_type": "markdown",
      "source": [
        "###8. What are logical operators in Python?"
      ],
      "metadata": {
        "id": "Sppcd0eTCPQl"
      }
    },
    {
      "cell_type": "markdown",
      "source": [
        "Ans-\n",
        "\n",
        "and: True if both operands are true.\n",
        "\n",
        "or: True if at least one operand is true.\n",
        "\n",
        "not: Inverts the boolean value.\n",
        "\n"
      ],
      "metadata": {
        "id": "NmiMyIu6CXkF"
      }
    },
    {
      "cell_type": "markdown",
      "source": [
        "###9.  What is type casting in Python?"
      ],
      "metadata": {
        "id": "app3TqbGCl2r"
      }
    },
    {
      "cell_type": "markdown",
      "source": [
        "Ans- Converting one data type to another.\n",
        "\n",
        "**Example-**"
      ],
      "metadata": {
        "id": "p55wu8OACwca"
      }
    },
    {
      "cell_type": "code",
      "source": [
        "x = int(\"10\")    # Explicit: str → int\n",
        "y = 5 + 5.5      # Implicit: int → float"
      ],
      "metadata": {
        "id": "aNN5T1wzC7Gr"
      },
      "execution_count": 3,
      "outputs": []
    },
    {
      "cell_type": "markdown",
      "source": [
        "###10.  What is the difference between implicit and explicit type casting?"
      ],
      "metadata": {
        "id": "_nqm7O1xDIng"
      }
    },
    {
      "cell_type": "markdown",
      "source": [
        "Ans-\n",
        "\n",
        "**Explicit**: Manual conversion (e.g., int(\"5\")).\n",
        "\n",
        "**Implicit**: Automatic conversion (e.g., 3 + 2.0 = 5.0)."
      ],
      "metadata": {
        "id": "ajdYeB6-DP4o"
      }
    },
    {
      "cell_type": "markdown",
      "source": [
        "###11.  What is the purpose of conditional statements in Python?"
      ],
      "metadata": {
        "id": "9AtVf6TjDrZj"
      }
    },
    {
      "cell_type": "markdown",
      "source": [
        "Ans-Control program flow based on conditions using if, elif, and else.\n",
        "\n"
      ],
      "metadata": {
        "id": "udStUqAsDusR"
      }
    },
    {
      "cell_type": "markdown",
      "source": [
        "###12.  How does the elif statement work?"
      ],
      "metadata": {
        "id": "dq9nfx2lEFNm"
      }
    },
    {
      "cell_type": "markdown",
      "source": [
        "Ans- elif checks a new condition if previous if/elif conditions are false.\n",
        "\n",
        "**Example**"
      ],
      "metadata": {
        "id": "4DOwppoZEJqR"
      }
    },
    {
      "cell_type": "code",
      "source": [
        "if x > 10:\n",
        "    print(\"Large\")\n",
        "elif x > 5:\n",
        "    print(\"Medium\")\n",
        "else:\n",
        "    print(\"Small\")"
      ],
      "metadata": {
        "colab": {
          "base_uri": "https://localhost:8080/"
        },
        "id": "ow840In1EdLY",
        "outputId": "9aedf03a-f009-4185-ab11-c0cdfdea9fe3"
      },
      "execution_count": 4,
      "outputs": [
        {
          "output_type": "stream",
          "name": "stdout",
          "text": [
            "Medium\n"
          ]
        }
      ]
    },
    {
      "cell_type": "markdown",
      "source": [
        "###13.  What is the difference between for and while loops?"
      ],
      "metadata": {
        "id": "Fp7_ytCiEsHX"
      }
    },
    {
      "cell_type": "markdown",
      "source": [
        "Ans-\n",
        "\n",
        "**for**: Iterates over a sequence (e.g., list, string).\n",
        "\n",
        "**while**: Repeats until a condition becomes false."
      ],
      "metadata": {
        "id": "T2DPrPD-E0sY"
      }
    },
    {
      "cell_type": "markdown",
      "source": [
        "###14.  Describe a scenario where a while loop is more suitable than a for loop."
      ],
      "metadata": {
        "id": "LmpttSi9FHGQ"
      }
    },
    {
      "cell_type": "markdown",
      "source": [
        "Ans-**Example**: User input validation:"
      ],
      "metadata": {
        "id": "KqZBeT0MFPSn"
      }
    },
    {
      "cell_type": "code",
      "source": [
        "while True:\n",
        "    age = input(\"Enter age: \")\n",
        "    if age.isdigit():\n",
        "        break"
      ],
      "metadata": {
        "colab": {
          "base_uri": "https://localhost:8080/"
        },
        "id": "bJ7qvp_xFajS",
        "outputId": "0a542685-2196-486f-f1db-179a73d89f27"
      },
      "execution_count": 5,
      "outputs": [
        {
          "name": "stdout",
          "output_type": "stream",
          "text": [
            "Enter age: 22\n"
          ]
        }
      ]
    },
    {
      "cell_type": "markdown",
      "source": [
        "##Practical Questions"
      ],
      "metadata": {
        "id": "WK-kIjXLGzyC"
      }
    },
    {
      "cell_type": "markdown",
      "source": [
        "###1. Write a Python program to print \"Hello, World!?"
      ],
      "metadata": {
        "id": "oTkMv4xLG9q_"
      }
    },
    {
      "cell_type": "code",
      "source": [
        "print(\"Hello, World!\")"
      ],
      "metadata": {
        "colab": {
          "base_uri": "https://localhost:8080/"
        },
        "id": "zXcLSoNAHIrG",
        "outputId": "8d7aca77-d0b7-4526-c8f9-3ef9b2699a65"
      },
      "execution_count": 6,
      "outputs": [
        {
          "output_type": "stream",
          "name": "stdout",
          "text": [
            "Hello, World!\n"
          ]
        }
      ]
    },
    {
      "cell_type": "markdown",
      "source": [
        "###2. Write a Python program that displays your name and age?"
      ],
      "metadata": {
        "id": "vk92jGFSHMeg"
      }
    },
    {
      "cell_type": "code",
      "source": [
        "name = \"Anjly\"\n",
        "age = 25\n",
        "print(f\"Name: {name}, Age: {age}\")"
      ],
      "metadata": {
        "colab": {
          "base_uri": "https://localhost:8080/"
        },
        "id": "RbwCI1MUHTl7",
        "outputId": "a12a0b35-1c7f-4e74-b70b-d0854700ccdd"
      },
      "execution_count": 8,
      "outputs": [
        {
          "output_type": "stream",
          "name": "stdout",
          "text": [
            "Name: Anjly, Age: 25\n"
          ]
        }
      ]
    },
    {
      "cell_type": "markdown",
      "source": [
        "###3.  Write code to print all the pre-defined keywords in Python using the keyword library?"
      ],
      "metadata": {
        "id": "JjrPjk7jHexy"
      }
    },
    {
      "cell_type": "code",
      "source": [
        "import keyword\n",
        "print(keyword.kwlist)"
      ],
      "metadata": {
        "colab": {
          "base_uri": "https://localhost:8080/"
        },
        "id": "OEaBB-dtHk84",
        "outputId": "766d57ec-4bff-4bef-a3a5-478c94293bbf"
      },
      "execution_count": 9,
      "outputs": [
        {
          "output_type": "stream",
          "name": "stdout",
          "text": [
            "['False', 'None', 'True', 'and', 'as', 'assert', 'async', 'await', 'break', 'class', 'continue', 'def', 'del', 'elif', 'else', 'except', 'finally', 'for', 'from', 'global', 'if', 'import', 'in', 'is', 'lambda', 'nonlocal', 'not', 'or', 'pass', 'raise', 'return', 'try', 'while', 'with', 'yield']\n"
          ]
        }
      ]
    },
    {
      "cell_type": "markdown",
      "source": [
        "###4.Write a program that checks if a given word is a Python keyword?"
      ],
      "metadata": {
        "id": "t2QPMZT3HvDp"
      }
    },
    {
      "cell_type": "code",
      "source": [
        "import keyword\n",
        "word = \"if\"\n",
        "print(keyword.iskeyword(word))"
      ],
      "metadata": {
        "colab": {
          "base_uri": "https://localhost:8080/"
        },
        "id": "T01_kxuEH0oW",
        "outputId": "c2c4d305-87cb-46c3-e949-57b270d857c7"
      },
      "execution_count": 10,
      "outputs": [
        {
          "output_type": "stream",
          "name": "stdout",
          "text": [
            "True\n"
          ]
        }
      ]
    },
    {
      "cell_type": "markdown",
      "source": [
        "###5. Create a list and tuple in Python, and demonstrate how attempting to change an element works differently for each."
      ],
      "metadata": {
        "id": "kHOCC5c4IEDT"
      }
    },
    {
      "cell_type": "code",
      "source": [
        "# List (mutable)\n",
        "my_list = [1, 2, 3]\n",
        "my_list[0] = 10  # Works\n",
        "\n",
        "# Tuple (immutable)\n",
        "my_tuple = (1, 2, 3)\n",
        "my_tuple[0] = 10  # Error: TypeError"
      ],
      "metadata": {
        "colab": {
          "base_uri": "https://localhost:8080/",
          "height": 182
        },
        "id": "qzC7gHQDIOzI",
        "outputId": "5317f91f-0357-47d0-cdbe-20827cf9ffe1"
      },
      "execution_count": 11,
      "outputs": [
        {
          "output_type": "error",
          "ename": "TypeError",
          "evalue": "'tuple' object does not support item assignment",
          "traceback": [
            "\u001b[0;31m---------------------------------------------------------------------------\u001b[0m",
            "\u001b[0;31mTypeError\u001b[0m                                 Traceback (most recent call last)",
            "\u001b[0;32m<ipython-input-11-daa11ee551d5>\u001b[0m in \u001b[0;36m<cell line: 0>\u001b[0;34m()\u001b[0m\n\u001b[1;32m      5\u001b[0m \u001b[0;31m# Tuple (immutable)\u001b[0m\u001b[0;34m\u001b[0m\u001b[0;34m\u001b[0m\u001b[0m\n\u001b[1;32m      6\u001b[0m \u001b[0mmy_tuple\u001b[0m \u001b[0;34m=\u001b[0m \u001b[0;34m(\u001b[0m\u001b[0;36m1\u001b[0m\u001b[0;34m,\u001b[0m \u001b[0;36m2\u001b[0m\u001b[0;34m,\u001b[0m \u001b[0;36m3\u001b[0m\u001b[0;34m)\u001b[0m\u001b[0;34m\u001b[0m\u001b[0;34m\u001b[0m\u001b[0m\n\u001b[0;32m----> 7\u001b[0;31m \u001b[0mmy_tuple\u001b[0m\u001b[0;34m[\u001b[0m\u001b[0;36m0\u001b[0m\u001b[0;34m]\u001b[0m \u001b[0;34m=\u001b[0m \u001b[0;36m10\u001b[0m  \u001b[0;31m# Error: TypeError\u001b[0m\u001b[0;34m\u001b[0m\u001b[0;34m\u001b[0m\u001b[0m\n\u001b[0m",
            "\u001b[0;31mTypeError\u001b[0m: 'tuple' object does not support item assignment"
          ]
        }
      ]
    },
    {
      "cell_type": "markdown",
      "source": [
        "###6. Write a function to demonstrate the behavior of mutable and immutable arguments?"
      ],
      "metadata": {
        "id": "lM5OLB4AIrBR"
      }
    },
    {
      "cell_type": "code",
      "source": [
        "def modify(x, y):\n",
        "    x = 10    # Immutable (no effect outside)\n",
        "    y[0] = 10 # Mutable (affects original)\n",
        "\n",
        "a = 5\n",
        "b = [1, 2]\n",
        "modify(a, b)\n",
        "print(a)  # 5 (unchanged)\n",
        "print(b)  # [10, 2] (changed)"
      ],
      "metadata": {
        "colab": {
          "base_uri": "https://localhost:8080/"
        },
        "id": "bJGwcLI7IxqI",
        "outputId": "ebcef63f-2cca-4f7c-b828-8b1b8b64b3c9"
      },
      "execution_count": 12,
      "outputs": [
        {
          "output_type": "stream",
          "name": "stdout",
          "text": [
            "5\n",
            "[10, 2]\n"
          ]
        }
      ]
    },
    {
      "cell_type": "markdown",
      "source": [
        "###7.Write a function to demonstrate the behavior of mutable and immutable arguments?"
      ],
      "metadata": {
        "id": "3SjCgN2QI_gi"
      }
    },
    {
      "cell_type": "code",
      "source": [
        "def modify(x, y):\n",
        "    x = 10    # Immutable (no effect outside)\n",
        "    y[0] = 10 # Mutable (affects original)\n",
        "\n",
        "a = 5\n",
        "b = [1, 2]\n",
        "modify(a, b)\n",
        "print(a)  # 5 (unchanged)\n",
        "print(b)  # [10, 2] (changed)"
      ],
      "metadata": {
        "colab": {
          "base_uri": "https://localhost:8080/"
        },
        "id": "jJBoGtwfJGG1",
        "outputId": "7a0f85aa-a644-46d6-e280-b897f79ff446"
      },
      "execution_count": 13,
      "outputs": [
        {
          "output_type": "stream",
          "name": "stdout",
          "text": [
            "5\n",
            "[10, 2]\n"
          ]
        }
      ]
    },
    {
      "cell_type": "markdown",
      "source": [
        "###8. Write a program to demonstrate the use of logical operators?"
      ],
      "metadata": {
        "id": "SnImrpVJJTxZ"
      }
    },
    {
      "cell_type": "code",
      "source": [
        "age = 20\n",
        "has_id = True\n",
        "if age >= 18 and has_id:\n",
        "    print(\"Access granted\")"
      ],
      "metadata": {
        "colab": {
          "base_uri": "https://localhost:8080/"
        },
        "id": "SIfe8UMkJe6T",
        "outputId": "83af7b96-52d6-4072-8397-9649e05791e2"
      },
      "execution_count": 14,
      "outputs": [
        {
          "output_type": "stream",
          "name": "stdout",
          "text": [
            "Access granted\n"
          ]
        }
      ]
    },
    {
      "cell_type": "markdown",
      "source": [
        "###9.Write a Python program to convert user input from string to integer, float, and boolean types?"
      ],
      "metadata": {
        "id": "6cpTsMJxJoVS"
      }
    },
    {
      "cell_type": "code",
      "source": [
        "user_input = input(\"Enter a number: \")\n",
        "integer = int(user_input)\n",
        "float_num = float(user_input)\n",
        "boolean = bool(integer)"
      ],
      "metadata": {
        "colab": {
          "base_uri": "https://localhost:8080/"
        },
        "id": "c0XPWOCBJvZy",
        "outputId": "e35e22ff-65a4-4b22-988a-2a8f094a316d"
      },
      "execution_count": 15,
      "outputs": [
        {
          "name": "stdout",
          "output_type": "stream",
          "text": [
            "Enter a number: 36\n"
          ]
        }
      ]
    },
    {
      "cell_type": "code",
      "source": [
        "type(boolean)"
      ],
      "metadata": {
        "colab": {
          "base_uri": "https://localhost:8080/"
        },
        "id": "MFB8W44PJ77c",
        "outputId": "159bee70-daf8-4976-e61f-bdb336c39601"
      },
      "execution_count": 17,
      "outputs": [
        {
          "output_type": "execute_result",
          "data": {
            "text/plain": [
              "bool"
            ]
          },
          "metadata": {},
          "execution_count": 17
        }
      ]
    },
    {
      "cell_type": "markdown",
      "source": [
        "###10. Write code to demonstrate type casting with list elements?"
      ],
      "metadata": {
        "id": "lm3kWQcyKKN8"
      }
    },
    {
      "cell_type": "code",
      "source": [
        "str_list = [\"1\", \"2\", \"3\"]\n",
        "int_list = [int(x) for x in str_list]\n",
        "print(int_list)"
      ],
      "metadata": {
        "colab": {
          "base_uri": "https://localhost:8080/"
        },
        "id": "RKQvHYUjKW9G",
        "outputId": "86d1adb0-9a2b-42a0-9749-f9014e356a4a"
      },
      "execution_count": 18,
      "outputs": [
        {
          "output_type": "stream",
          "name": "stdout",
          "text": [
            "[1, 2, 3]\n"
          ]
        }
      ]
    },
    {
      "cell_type": "markdown",
      "source": [
        "###11. Write a program that checks if a number is positive, negative, or zero?"
      ],
      "metadata": {
        "id": "-Tzv6uCQKwOH"
      }
    },
    {
      "cell_type": "code",
      "source": [
        "num = float(input(\"Enter a number: \"))\n",
        "if num > 0:\n",
        "    print(\"Positive\")\n",
        "elif num < 0:\n",
        "    print(\"Negative\")\n",
        "else:\n",
        "    print(\"Zero\")"
      ],
      "metadata": {
        "colab": {
          "base_uri": "https://localhost:8080/"
        },
        "id": "2oOuD3acK1ia",
        "outputId": "004cccb3-cd0b-475e-fe3e-6e225ed3cc8a"
      },
      "execution_count": 19,
      "outputs": [
        {
          "output_type": "stream",
          "name": "stdout",
          "text": [
            "Enter a number: -4.5\n",
            "Negative\n"
          ]
        }
      ]
    },
    {
      "cell_type": "markdown",
      "source": [
        "###12.Write a for loop to print numbers from 1 to 10?"
      ],
      "metadata": {
        "id": "lccipWADLAQB"
      }
    },
    {
      "cell_type": "code",
      "source": [
        "for i in range(1, 11):\n",
        "    print(i)"
      ],
      "metadata": {
        "colab": {
          "base_uri": "https://localhost:8080/"
        },
        "id": "twI7bNUdLFnN",
        "outputId": "beb79515-808d-4cd7-98c3-31540cb47606"
      },
      "execution_count": 20,
      "outputs": [
        {
          "output_type": "stream",
          "name": "stdout",
          "text": [
            "1\n",
            "2\n",
            "3\n",
            "4\n",
            "5\n",
            "6\n",
            "7\n",
            "8\n",
            "9\n",
            "10\n"
          ]
        }
      ]
    },
    {
      "cell_type": "markdown",
      "source": [
        "###13. Write a Python program to find the sum of all even numbers between 1 and 50?"
      ],
      "metadata": {
        "id": "xQUGH9zcLM1_"
      }
    },
    {
      "cell_type": "code",
      "source": [
        "total = 0\n",
        "for num in range(2, 51, 2):\n",
        "    total += num\n",
        "print(total)"
      ],
      "metadata": {
        "colab": {
          "base_uri": "https://localhost:8080/"
        },
        "id": "wbmY_4a0LUVA",
        "outputId": "b9f79288-e03c-4d48-e2d2-6c7a026a8219"
      },
      "execution_count": 21,
      "outputs": [
        {
          "output_type": "stream",
          "name": "stdout",
          "text": [
            "650\n"
          ]
        }
      ]
    },
    {
      "cell_type": "markdown",
      "source": [
        "###14.  Write a program to reverse a string using a while loop?"
      ],
      "metadata": {
        "id": "daRx260RLikh"
      }
    },
    {
      "cell_type": "code",
      "source": [
        "s = \"hello\"\n",
        "reversed_str = \"\"\n",
        "index = len(s) - 1\n",
        "while index >= 0:\n",
        "    reversed_str += s[index]\n",
        "    index -= 1\n",
        "print(reversed_str)"
      ],
      "metadata": {
        "colab": {
          "base_uri": "https://localhost:8080/"
        },
        "id": "L5NbKVGlLpu-",
        "outputId": "f3d5073d-52ed-4fb5-825c-40aa089ba994"
      },
      "execution_count": 22,
      "outputs": [
        {
          "output_type": "stream",
          "name": "stdout",
          "text": [
            "olleh\n"
          ]
        }
      ]
    },
    {
      "cell_type": "markdown",
      "source": [
        "###15. Write a Python program to calculate the factorial of a number provided by the user using a while loop?"
      ],
      "metadata": {
        "id": "D0qbm78IL3zB"
      }
    },
    {
      "cell_type": "code",
      "source": [
        "n = int(input(\"Enter a number: \"))\n",
        "factorial = 1\n",
        "while n > 0:\n",
        "    factorial *= n\n",
        "    n -= 1\n",
        "print(factorial)"
      ],
      "metadata": {
        "colab": {
          "base_uri": "https://localhost:8080/"
        },
        "id": "OwIWqWswMCX5",
        "outputId": "c56af90a-052c-4866-e50d-ae737d47852f"
      },
      "execution_count": 24,
      "outputs": [
        {
          "output_type": "stream",
          "name": "stdout",
          "text": [
            "Enter a number: 7\n",
            "5040\n"
          ]
        }
      ]
    },
    {
      "cell_type": "markdown",
      "source": [
        "##THANK YOU:)"
      ],
      "metadata": {
        "id": "UHCY1wF8MB7S"
      }
    }
  ]
}