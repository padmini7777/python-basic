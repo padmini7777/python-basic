{
  "nbformat": 4,
  "nbformat_minor": 0,
  "metadata": {
    "colab": {
      "provenance": []
    },
    "kernelspec": {
      "name": "python3",
      "display_name": "Python 3"
    },
    "language_info": {
      "name": "python"
    }
  },
  "cells": [
    {
      "cell_type": "markdown",
      "source": [
        "##1. What is Python, and why is it popular?\n"
      ],
      "metadata": {
        "id": "o_C_QMhrfNhC"
      }
    },
    {
      "cell_type": "markdown",
      "source": [
        "Ans- Python is a high level , general purpose programming language. It is popular for its clear syntax and readability, which makes it relatively easy to learn and use. Python has large and active community of users and developers, which means it is rich in resources for learning. So that python have a lot of libraries. Python's combination of readability, versatility, strong community support, and extensive libraries made it one of the most popular programming languages in the world."
      ],
      "metadata": {
        "id": "DTtNkT07UP7a"
      }
    },
    {
      "cell_type": "markdown",
      "source": [
        "##2. What is an interpreter in Python?"
      ],
      "metadata": {
        "id": "19geeRNgYC5h"
      }
    },
    {
      "cell_type": "markdown",
      "source": [
        "Ans- An interpreter in python is a program that executes python code. it read the code one by one, translate into machine readable instructions and then execute those instructions."
      ],
      "metadata": {
        "id": "_e0dvFRDYpMx"
      }
    },
    {
      "cell_type": "markdown",
      "source": [
        "## 3.  What are pre-defined keywords in Python?"
      ],
      "metadata": {
        "id": "ZmusPCDpZaXh"
      }
    },
    {
      "cell_type": "markdown",
      "source": [
        "Ans- Pre-defined Keywords are fundamental building blocks of the language and have special meanings and purpose within the language. e.g. if, elif, else, True and False, none, and, or, not, import, try etc."
      ],
      "metadata": {
        "id": "NhQW1-FVbVGd"
      }
    },
    {
      "cell_type": "markdown",
      "source": [
        "##4.  Can keywords be used as variable names?"
      ],
      "metadata": {
        "id": "n0o9dKKecYii"
      }
    },
    {
      "cell_type": "markdown",
      "source": [
        "Ans- No, keywords can not be used as variable names in python."
      ],
      "metadata": {
        "id": "ff9SiW_Gcc2J"
      }
    },
    {
      "cell_type": "markdown",
      "source": [
        "##5.  What is mutability in Python?"
      ],
      "metadata": {
        "id": "uFQ-8ASMdEcX"
      }
    },
    {
      "cell_type": "markdown",
      "source": [
        "Ans- Mutability in python is the ability of an object to change its value after it has been created.e.g. List, sets etc."
      ],
      "metadata": {
        "id": "ze3pSM_3dm0r"
      }
    },
    {
      "cell_type": "markdown",
      "source": [
        "##6. Why are lists mutable, but tuples are immutable?"
      ],
      "metadata": {
        "id": "8DsOaTNIhJzA"
      }
    },
    {
      "cell_type": "markdown",
      "source": [
        "Ans- Lists are mutable because it can be modified after creation. But tuples are immutable because it can not be modified after creation. It is the fixed collection of data."
      ],
      "metadata": {
        "id": "yU0yQHwjhUAR"
      }
    },
    {
      "cell_type": "markdown",
      "source": [
        "##7.  What is the difference between “==” and “is” operators in Python?"
      ],
      "metadata": {
        "id": "Uv_vv-tZiP3C"
      }
    },
    {
      "cell_type": "markdown",
      "source": [
        "Ans- \"==\" is the 'Equality operator'. Which compares the values of two object and check if the object have the same content or data. But \"is\" is the 'Identity operator'. which compares memory adress of two objects and it checks if the objects are the same object in memory."
      ],
      "metadata": {
        "id": "soXphC-6ieLw"
      }
    },
    {
      "cell_type": "markdown",
      "source": [
        "##8.  What are logical operators in Python?"
      ],
      "metadata": {
        "id": "ambi_Rbfj6-r"
      }
    },
    {
      "cell_type": "markdown",
      "source": [
        "Ans- Logical operators in python are used to combine or modify Boolean expressions. Example- AND operator, OR operator and NOT operator."
      ],
      "metadata": {
        "id": "6XZW0o4kkInz"
      }
    },
    {
      "cell_type": "markdown",
      "source": [
        "##9.  What is type casting in Python?"
      ],
      "metadata": {
        "id": "0TMbsgUJlHQq"
      }
    },
    {
      "cell_type": "markdown",
      "source": [
        "Ans- Type casting in python is also known as type conversion, it is the process of converting a value of one data type to another data type like 'str' to 'int', 'str' to 'bool' etc."
      ],
      "metadata": {
        "id": "8CRXEhqUlqH1"
      }
    },
    {
      "cell_type": "markdown",
      "source": [
        "##10.  What is the difference between implicit and explicit type casting?"
      ],
      "metadata": {
        "id": "E5ykawu5M6XM"
      }
    },
    {
      "cell_type": "markdown",
      "source": [
        "Ans- Implicit type casting is performed automatically by the python interpreter without any explicit instruction from the programmer. Its maain aim to avoid data loss and errors when operations involve different data types. But explicit type casting requires the programmer to use built in functions like int(), float(), str(), etc. to specify the desired data type conversion. Its main aim to control over the conversation process, often for data manipulation."
      ],
      "metadata": {
        "id": "B3tyBmGTNJfj"
      }
    },
    {
      "cell_type": "markdown",
      "source": [
        "##11.  What is the purpose of conditional statements in Python?"
      ],
      "metadata": {
        "id": "0YFpD1dIPygV"
      }
    },
    {
      "cell_type": "markdown",
      "source": [
        "Ans- The primary purpose of conditional statements in python is to decision making into our programs. They enpower us to execute code selectively, create branches in logic, and implement logic and algorithms.\n",
        " Example 'if' statement, 'if-else' statement, 'if-elif-else' statement."
      ],
      "metadata": {
        "id": "x9kEEcEAQuH-"
      }
    },
    {
      "cell_type": "markdown",
      "source": [
        "##12.  How does the elif statement work?"
      ],
      "metadata": {
        "id": "1N3oqW0_SOtR"
      }
    },
    {
      "cell_type": "markdown",
      "source": [
        "Ans- elif staement provide a way to create a chain of conditional check, allowing our program to make more complex decisions based on multiple criteria. If the initial \"if\" condition is \"false\", the program move into the first \"elif statement\". The condition associated with this elif is evaluated. If its True, the code block under this elif is executed, and remaining elif and else block are skipped. If the elif condition is also False, the program proceeds to the next elif statement, and so on."
      ],
      "metadata": {
        "id": "6h7YxsXrTpOg"
      }
    },
    {
      "cell_type": "markdown",
      "source": [
        "## 13.  What is the difference between for and while loops?"
      ],
      "metadata": {
        "id": "vZ3FaYD7VZGg"
      }
    },
    {
      "cell_type": "markdown",
      "source": [
        "Ans- 'for' loop used for iterating over a sequence(like a list, tuple, string, or range) or other irerable objects. The loop iterates over each item in the sequence, executing the code block for each item until the sequence is exhausted. But 'while' loop used for repeatedly executing a block of code as long as a given condition id True."
      ],
      "metadata": {
        "id": "c-Qcky19VkOr"
      }
    },
    {
      "cell_type": "markdown",
      "source": [
        "##14. Describe a scenario where a while loop is more suitable than a for loop?"
      ],
      "metadata": {
        "id": "Y5Od-eD5gtw0"
      }
    },
    {
      "cell_type": "markdown",
      "source": [
        "Ans- Lets take a scenario : Reading data from a sensor until a specific value is received.\n",
        "\n",
        "Reasoning:\n",
        "You don't know in advance how many readings you'll need to take.\n",
        "The loop should continue indefinitely until the desired condition is met (e.g., sensor reading reaches a threshold).\n",
        "A while loop naturally handles this type of indefinite iteration, whereas a for loop is typically used for iterating over a known sequence or range of values."
      ],
      "metadata": {
        "id": "g9bxrHKginaC"
      }
    },
    {
      "cell_type": "markdown",
      "source": [
        "#Practical Questions"
      ],
      "metadata": {
        "id": "WyKHiphdo40o"
      }
    },
    {
      "cell_type": "code",
      "source": [
        "#1.python program for to print \"Hellow World\"\n",
        "\n",
        "print(\"Hellow World\")\n",
        "\n"
      ],
      "metadata": {
        "colab": {
          "base_uri": "https://localhost:8080/"
        },
        "id": "3_T1JRvPoz7M",
        "outputId": "27d6428f-d0ef-450e-e1cb-78499e044f49"
      },
      "execution_count": null,
      "outputs": [
        {
          "output_type": "stream",
          "name": "stdout",
          "text": [
            "Hellow World\n"
          ]
        }
      ]
    },
    {
      "cell_type": "code",
      "source": [
        "#2.Write a Python program that displays your name and age\n",
        "\n",
        "name = \"Padmini\"\n",
        "age = 22\n",
        "print(\"Name:\", name)\n",
        "print(\"Age:\", age)"
      ],
      "metadata": {
        "colab": {
          "base_uri": "https://localhost:8080/"
        },
        "id": "LoLO95H5tP3B",
        "outputId": "9e8c3a31-5299-4280-b9c8-1f64fa33e098"
      },
      "execution_count": null,
      "outputs": [
        {
          "output_type": "stream",
          "name": "stdout",
          "text": [
            "Name: Padmini\n",
            "Age: 22\n"
          ]
        }
      ]
    },
    {
      "cell_type": "code",
      "source": [
        "#3. Write code to print all the pre-defined keywords in Python using the keyword library\n",
        "\n",
        "help(\"keywords\")"
      ],
      "metadata": {
        "colab": {
          "base_uri": "https://localhost:8080/"
        },
        "id": "ygFQN521tvTS",
        "outputId": "407a15b7-77e2-44b5-92af-a7d40179eb98"
      },
      "execution_count": null,
      "outputs": [
        {
          "output_type": "stream",
          "name": "stdout",
          "text": [
            "\n",
            "Here is a list of the Python keywords.  Enter any keyword to get more help.\n",
            "\n",
            "False               class               from                or\n",
            "None                continue            global              pass\n",
            "True                def                 if                  raise\n",
            "and                 del                 import              return\n",
            "as                  elif                in                  try\n",
            "assert              else                is                  while\n",
            "async               except              lambda              with\n",
            "await               finally             nonlocal            yield\n",
            "break               for                 not                 \n",
            "\n"
          ]
        }
      ]
    },
    {
      "cell_type": "code",
      "source": [
        "#4.Write a program that checks if a given word is a Python keyword\n",
        "\n",
        "import keyword\n",
        "\n",
        "word = input(\"Enter a word: \")\n",
        "\n",
        "if keyword.iskeyword(word):\n",
        "    print(f\"{word} is a Python keyword.\")\n",
        "else:\n",
        "    print(f\"{word} is not a Python keyword.\")"
      ],
      "metadata": {
        "colab": {
          "base_uri": "https://localhost:8080/"
        },
        "id": "tyMn3VrTtvfz",
        "outputId": "dffa80c6-33fa-4212-c533-370d6d5798e3"
      },
      "execution_count": null,
      "outputs": [
        {
          "output_type": "stream",
          "name": "stdout",
          "text": [
            "Enter a word: elif\n",
            "elif is a Python keyword.\n"
          ]
        }
      ]
    },
    {
      "cell_type": "code",
      "source": [
        "#5. Create a list and tuple in Python, and demonstrate how attempting to change an element works differently for each\n",
        "\n",
        "\n",
        "\n",
        "my_list = [1, 2, 3] ## Create a list\n",
        "my_tuple = (1, 2, 3) ## Create a tuple\n",
        "my_list[0] = 4 ## Attempt to change an element in the list\n",
        "\n",
        "# Attempt to change an element in the tuple\n",
        "try:\n",
        "    my_tuple[0] = 4\n",
        "except TypeError:\n",
        "    print(\"TypeError: 'tuple' object does not support item assignment\")\n",
        "\n",
        "# Print the list and tuple\n",
        "print(\"List:\", my_list)\n",
        "print(\"Tuple:\", my_tuple)"
      ],
      "metadata": {
        "colab": {
          "base_uri": "https://localhost:8080/"
        },
        "id": "NVHYR-N1tvjX",
        "outputId": "4457d4d4-7af7-4b7a-c4bc-28234d3dfd0f"
      },
      "execution_count": null,
      "outputs": [
        {
          "output_type": "stream",
          "name": "stdout",
          "text": [
            "TypeError: 'tuple' object does not support item assignment\n",
            "List: [4, 2, 3]\n",
            "Tuple: (1, 2, 3)\n"
          ]
        }
      ]
    },
    {
      "cell_type": "code",
      "source": [
        "#6. Write a function to demonstrate the behavior of mutable and immutable arguments\n",
        "\n",
        "list_cont = [1, 2, \"padmini\", \"barsha\",\"sidhi\"]\n",
        "list_cont"
      ],
      "metadata": {
        "colab": {
          "base_uri": "https://localhost:8080/"
        },
        "id": "SkgMxwGB0R_d",
        "outputId": "81d2cc24-a397-4372-e1d7-86f0c5d6b051"
      },
      "execution_count": null,
      "outputs": [
        {
          "output_type": "execute_result",
          "data": {
            "text/plain": [
              "[1, 2, 'padmini', 'ritu', 'barsha', 'sidhi']"
            ]
          },
          "metadata": {},
          "execution_count": 13
        }
      ]
    },
    {
      "cell_type": "code",
      "source": [
        "#mutability = it can be changeable e.g. list\n",
        "list_cont[3] = \"ritu\"\n",
        "list_cont"
      ],
      "metadata": {
        "colab": {
          "base_uri": "https://localhost:8080/"
        },
        "id": "bCT15Fol0SyD",
        "outputId": "3412a8b6-f521-4160-fd4e-588891aa5280"
      },
      "execution_count": null,
      "outputs": [
        {
          "output_type": "execute_result",
          "data": {
            "text/plain": [
              "[1, 2, 'padmini', 'ritu', 'barsha', 'sidhi']"
            ]
          },
          "metadata": {},
          "execution_count": 15
        }
      ]
    },
    {
      "cell_type": "code",
      "source": [
        "#immutable = it can not be change after creation\n",
        "list_cont[3] = \"barsha\"\n",
        "b = \"barsha\"\n",
        "b[0] = \"H\""
      ],
      "metadata": {
        "colab": {
          "base_uri": "https://localhost:8080/",
          "height": 182
        },
        "id": "p7Go5AIG0S-c",
        "outputId": "8fcec721-5e37-4cfb-f221-21b12541c948"
      },
      "execution_count": null,
      "outputs": [
        {
          "output_type": "error",
          "ename": "TypeError",
          "evalue": "'str' object does not support item assignment",
          "traceback": [
            "\u001b[0;31m---------------------------------------------------------------------------\u001b[0m",
            "\u001b[0;31mTypeError\u001b[0m                                 Traceback (most recent call last)",
            "\u001b[0;32m<ipython-input-18-f5c9c4f07645>\u001b[0m in \u001b[0;36m<cell line: 0>\u001b[0;34m()\u001b[0m\n\u001b[1;32m      2\u001b[0m \u001b[0mlist_cont\u001b[0m\u001b[0;34m[\u001b[0m\u001b[0;36m3\u001b[0m\u001b[0;34m]\u001b[0m \u001b[0;34m=\u001b[0m \u001b[0;34m\"barsha\"\u001b[0m\u001b[0;34m\u001b[0m\u001b[0;34m\u001b[0m\u001b[0m\n\u001b[1;32m      3\u001b[0m \u001b[0mb\u001b[0m \u001b[0;34m=\u001b[0m \u001b[0;34m\"barsha\"\u001b[0m\u001b[0;34m\u001b[0m\u001b[0;34m\u001b[0m\u001b[0m\n\u001b[0;32m----> 4\u001b[0;31m \u001b[0mb\u001b[0m\u001b[0;34m[\u001b[0m\u001b[0;36m0\u001b[0m\u001b[0;34m]\u001b[0m \u001b[0;34m=\u001b[0m \u001b[0;34m\"H\"\u001b[0m\u001b[0;34m\u001b[0m\u001b[0;34m\u001b[0m\u001b[0m\n\u001b[0m",
            "\u001b[0;31mTypeError\u001b[0m: 'str' object does not support item assignment"
          ]
        }
      ]
    },
    {
      "cell_type": "code",
      "source": [
        "# 8. Write a program to demonstrate the use of logical operators"
      ],
      "metadata": {
        "id": "9N5WP9545lTh"
      },
      "execution_count": null,
      "outputs": []
    },
    {
      "cell_type": "code",
      "source": [
        "# There are 3 logical operator - AND operation , OR operator and NOT operator\n"
      ],
      "metadata": {
        "id": "T_05aE225lEE"
      },
      "execution_count": null,
      "outputs": []
    },
    {
      "cell_type": "code",
      "source": [
        "# Get input from the user\n",
        "age = int(input(\"Enter your age: \"))\n",
        "has_license = input(\"Do you have a driver's license? (yes/no): \").lower()\n",
        "\n",
        "# Check if the user is eligible to drive\n",
        "if age >= 18 and has_license == \"yes\":\n",
        "  print(\"You are eligible to drive.\")\n",
        "elif age < 18:\n",
        "  print(\"You are too young to drive.\")\n",
        "else:\n",
        "  print(\"You need a driver's license to drive.\")\n",
        "\n",
        "# Check if the user is a teenager or an adult\n",
        "if age >= 13 and age <= 19:\n",
        "  print(\"You are a teenager.\")\n",
        "elif age >= 20:\n",
        "  print(\"You are an adult.\")\n",
        "else:\n",
        "  print(\"You are a child.\")\n",
        "\n",
        "# Check if the user is not eligible to vote\n",
        "if not (age >= 18):\n",
        "  print(\"You are not eligible to vote.\")"
      ],
      "metadata": {
        "colab": {
          "base_uri": "https://localhost:8080/"
        },
        "id": "dVMKZBRvHZIN",
        "outputId": "10125b1f-24b4-4ab2-d773-2cecb0c37176"
      },
      "execution_count": null,
      "outputs": [
        {
          "output_type": "stream",
          "name": "stdout",
          "text": [
            "Enter your age: 22\n",
            "Do you have a driver's license? (yes/no): no\n",
            "You need a driver's license to drive.\n",
            "You are an adult.\n"
          ]
        }
      ]
    },
    {
      "cell_type": "code",
      "source": [
        "#9.  Write a Python program to convert user input from string to integer, float, and boolean types\n",
        "\n"
      ],
      "metadata": {
        "id": "TGGORtIkH-Ts"
      },
      "execution_count": null,
      "outputs": []
    },
    {
      "cell_type": "code",
      "source": [
        "def convert_to_int(user_input):\n",
        "\n",
        "    try:\n",
        "        return int(user_input)\n",
        "    except ValueError:\n",
        "        print(\"Invalid input for integer conversion.\")\n",
        "        return None\n",
        "\n",
        "def convert_to_float(user_input):\n",
        "\n",
        "    try:\n",
        "        return float(user_input)\n",
        "    except ValueError:\n",
        "        print(\"Invalid input for float conversion.\")\n",
        "        return None\n",
        "\n",
        "def convert_to_bool(user_input):\n",
        "\n",
        "    user_input = user_input.lower()\n",
        "    if user_input in [\"true\", \"1\", \"t\", \"y\", \"yes\"]:\n",
        "        return True\n",
        "    elif user_input in [\"false\", \"0\", \"f\", \"n\", \"no\"]:\n",
        "        return False\n",
        "    else:\n",
        "        print(\"Invalid input for boolean conversion.\")\n",
        "        return None\n",
        "\n",
        "# Get user input\n",
        "user_input = input(\"Enter a value: \")\n",
        "\n",
        "# Convert to different types\n",
        "integer_value = convert_to_int(user_input)\n",
        "float_value = convert_to_float(user_input)\n",
        "boolean_value = convert_to_bool(user_input)\n",
        "\n",
        "# Print the results\n",
        "print(\"Integer:\", integer_value)\n",
        "print(\"Float:\", float_value)\n",
        "print(\"Boolean:\", boolean_value)"
      ],
      "metadata": {
        "colab": {
          "base_uri": "https://localhost:8080/"
        },
        "id": "B48wIUQ8IWb9",
        "outputId": "2423d6a6-282c-4ffd-d6c5-2fbc09d57064"
      },
      "execution_count": null,
      "outputs": [
        {
          "output_type": "stream",
          "name": "stdout",
          "text": [
            "Enter a value: 25\n",
            "Invalid input for boolean conversion.\n",
            "Integer: 25\n",
            "Float: 25.0\n",
            "Boolean: None\n"
          ]
        }
      ]
    },
    {
      "cell_type": "code",
      "source": [
        "#10. Write code to demonstrate type casting with list elements\n",
        "\n",
        "my_list = [1, '2', 3.14, '4.5', True, 'hello']\n",
        "\n",
        "# Cast to integer:\n",
        "int_list = [int(x) for x in my_list if str(x).isdigit()]\n",
        "print(\"Integer List:\", int_list)\n",
        "\n",
        "# Cast to float:\n",
        "float_list = [float(x) for x in my_list if isinstance(x,(int,float,str)) and str(x).replace('.','',1).isdigit()]\n",
        "print(\"Float List:\", float_list)\n",
        "\n",
        "# Cast to string:\n",
        "str_list = [str(x) for x in my_list]\n",
        "print(\"String List:\", str_list)"
      ],
      "metadata": {
        "colab": {
          "base_uri": "https://localhost:8080/"
        },
        "id": "PLcg6cJfODky",
        "outputId": "f4271ff7-3195-4bd7-a143-a24c3e273730"
      },
      "execution_count": null,
      "outputs": [
        {
          "output_type": "stream",
          "name": "stdout",
          "text": [
            "Integer List: [1, 2]\n",
            "Float List: [1.0, 2.0, 3.14, 4.5]\n",
            "String List: ['1', '2', '3.14', '4.5', 'True', 'hello']\n"
          ]
        }
      ]
    },
    {
      "cell_type": "code",
      "source": [
        "#11. Write a program that checks if a number is positive, negative, or zero\n",
        "\n",
        "num = float(input(\"Enter a number: \"))\n",
        "\n",
        "if num > 0:\n",
        "    print(\"The number is positive.\")\n",
        "elif num < 0:\n",
        "    print(\"The number is negative.\")\n",
        "else:\n",
        "    print(\"The number is zero.\")"
      ],
      "metadata": {
        "colab": {
          "base_uri": "https://localhost:8080/"
        },
        "id": "zwzfXra6PS5b",
        "outputId": "b74a9b53-1035-4bf0-c2eb-a92a3fdc1ec5"
      },
      "execution_count": null,
      "outputs": [
        {
          "output_type": "stream",
          "name": "stdout",
          "text": [
            "Enter a number: 12\n",
            "The number is positive.\n"
          ]
        }
      ]
    },
    {
      "cell_type": "code",
      "source": [
        "#12. Write a for loop to print numbers from 1 to 10\n",
        "\n",
        "for i in range(1, 11):\n",
        "  print(i)"
      ],
      "metadata": {
        "colab": {
          "base_uri": "https://localhost:8080/"
        },
        "id": "81jzbTruPw0m",
        "outputId": "e942ae92-89ed-4284-878e-612f3b87bafb"
      },
      "execution_count": null,
      "outputs": [
        {
          "output_type": "stream",
          "name": "stdout",
          "text": [
            "1\n",
            "2\n",
            "3\n",
            "4\n",
            "5\n",
            "6\n",
            "7\n",
            "8\n",
            "9\n",
            "10\n"
          ]
        }
      ]
    },
    {
      "cell_type": "code",
      "source": [
        "#13. Write a Python program to find the sum of all even numbers between 1 and 50\n",
        "\n",
        "total_sum = sum(range(2, 51, 2))\n",
        "print(\"Sum of even numbers:\", total_sum)"
      ],
      "metadata": {
        "colab": {
          "base_uri": "https://localhost:8080/"
        },
        "id": "GXTVcX3OQC7u",
        "outputId": "d2e14b41-774d-4269-ed0f-438df4fc1601"
      },
      "execution_count": null,
      "outputs": [
        {
          "output_type": "stream",
          "name": "stdout",
          "text": [
            "Sum of even numbers: 650\n"
          ]
        }
      ]
    },
    {
      "cell_type": "code",
      "source": [
        "#14. Write a program to reverse a string using a while loop\n",
        "\n",
        "string = input(\"Enter a string: \")\n",
        "reversed_string = \"\"\n",
        "index = len(string) - 1\n",
        "\n",
        "while index >= 0:\n",
        "    reversed_string += string[index]\n",
        "    index -= 1\n",
        "\n",
        "print(\"Reversed string:\", reversed_string)"
      ],
      "metadata": {
        "colab": {
          "base_uri": "https://localhost:8080/"
        },
        "id": "GJ4RQskeQwUn",
        "outputId": "404d9860-3457-4667-b4fc-d8ba016328aa"
      },
      "execution_count": null,
      "outputs": [
        {
          "output_type": "stream",
          "name": "stdout",
          "text": [
            "Enter a string: padmini\n",
            "Reversed string: inimdap\n"
          ]
        }
      ]
    },
    {
      "cell_type": "code",
      "source": [
        "#15.  Write a Python program to calculate the factorial of a number provided by the user using a while loop\n",
        "\n",
        "\n",
        "\n",
        "num = int(input(\"Enter a number: \"))\n",
        "factorial = 1\n",
        "while num > 1:\n",
        "    factorial *= num\n",
        "    num -= 1\n",
        "print(\"Factorial:\", factorial)\n"
      ],
      "metadata": {
        "id": "eBnPboVXRv-0",
        "colab": {
          "base_uri": "https://localhost:8080/"
        },
        "outputId": "f9242ef2-45b8-44f4-a97e-d3640a05761b"
      },
      "execution_count": null,
      "outputs": [
        {
          "output_type": "stream",
          "name": "stdout",
          "text": [
            "Enter a number: 7\n",
            "Factorial: 5040\n"
          ]
        }
      ]
    }
  ]
}